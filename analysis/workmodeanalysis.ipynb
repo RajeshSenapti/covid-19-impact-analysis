{
 "cells": [
  {
   "cell_type": "code",
   "execution_count": null,
   "id": "f687cde6",
   "metadata": {},
   "outputs": [],
   "source": [
    "import pandas as pd\n",
    "import os"
   ]
  }
 ],
 "metadata": {
  "language_info": {
   "name": "python"
  }
 },
 "nbformat": 4,
 "nbformat_minor": 5
}
